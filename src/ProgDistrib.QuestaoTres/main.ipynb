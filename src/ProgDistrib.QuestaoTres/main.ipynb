import concurrent.futures # executa tarefas de forma assíncrona e paralela.
import time

print("Bem vindo ao Cine UVV")
n = int(input("Quantas Pipocas você deseja?: "))
m = int(input("Quantos Refrigerantes você deseja?: "))
print("Seu pedido Esta em andamento...")

def pedir_lanche():
 
    start_time = time.time()  # Tempo inicial

    with concurrent.futures.ThreadPoolExecutor() as executor: #with espera que todos os conjuntos estejam concluidos.
        pipoca = executor.submit(get_pipoca)
        refrigerante = executor.submit(get_refrigerante)

        lanche = concurrent.futures.wait([pipoca, refrigerante], return_when=concurrent.futures.ALL_COMPLETED)

    end_time = time.time()  # Tempo final
    tempo_de_execucao = end_time - start_time  # Cálculo do tempo de execução total

    return lanche_pronto(), tempo_de_execucao

def get_pipoca():
    #preparando a pipoca com tempo de preparo
    start_time = time.time()  # Tempo inicial
    time.sleep(n)  # 1 segundo para cada pipoca ficar pronta 
    end_time = time.time()  # Tempo final
    tempo_de_execucao = end_time - start_time  # Cálculo do tempo de execução

    print("Tempo para a pipoca ficar pronta: ", tempo_de_execucao, "segundos")
    return "Pipoca Pronta"

def get_refrigerante():
    #preparando o refrigerante com tempo de preparo
    start_time = time.time()  # Tempo inicial
    time.sleep(m)  #  1 segundo para cada refrigerante fica pronto
    end_time = time.time()  # Tempo final
    tempo_de_execucao = end_time - start_time  # Cálculo do tempo de execução

    print("Tempo para o refrigerante ficar pronto: ", tempo_de_execucao, "segundos")
    return "Refrigerante Pronto"

def lanche_pronto():
    print("Seu pedido esta a Caminho")
    time.sleep(2)
    return "Aqui está Seu Lanche"


mensagem, tempo = pedir_lanche()
print(mensagem)
print("Seu Lanche demorou:", tempo, "segundos")
print("Bom Apetite!!!")
